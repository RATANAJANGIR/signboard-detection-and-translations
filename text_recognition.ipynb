{
  "nbformat": 4,
  "nbformat_minor": 0,
  "metadata": {
    "colab": {
      "name": "text_recognition.ipynb",
      "provenance": [],
      "collapsed_sections": [],
      "include_colab_link": true
    },
    "kernelspec": {
      "name": "python3",
      "display_name": "Python 3"
    },
    "accelerator": "GPU",
    "widgets": {
      "application/vnd.jupyter.widget-state+json": {
        "536da9408c8c4faab3a4c79b043b1e6c": {
          "model_module": "@jupyter-widgets/controls",
          "model_name": "HBoxModel",
          "state": {
            "_view_name": "HBoxView",
            "_dom_classes": [],
            "_model_name": "HBoxModel",
            "_view_module": "@jupyter-widgets/controls",
            "_model_module_version": "1.5.0",
            "_view_count": null,
            "_view_module_version": "1.5.0",
            "box_style": "",
            "layout": "IPY_MODEL_4e92f73523894aa2b383f38db5624748",
            "_model_module": "@jupyter-widgets/controls",
            "children": [
              "IPY_MODEL_2f47d989249f403184eca61b1f75cff3",
              "IPY_MODEL_fdbb91422def4240a46a5eb29508c56e"
            ]
          }
        },
        "4e92f73523894aa2b383f38db5624748": {
          "model_module": "@jupyter-widgets/base",
          "model_name": "LayoutModel",
          "state": {
            "_view_name": "LayoutView",
            "grid_template_rows": null,
            "right": null,
            "justify_content": null,
            "_view_module": "@jupyter-widgets/base",
            "overflow": null,
            "_model_module_version": "1.2.0",
            "_view_count": null,
            "flex_flow": null,
            "width": null,
            "min_width": null,
            "border": null,
            "align_items": null,
            "bottom": null,
            "_model_module": "@jupyter-widgets/base",
            "top": null,
            "grid_column": null,
            "overflow_y": null,
            "overflow_x": null,
            "grid_auto_flow": null,
            "grid_area": null,
            "grid_template_columns": null,
            "flex": null,
            "_model_name": "LayoutModel",
            "justify_items": null,
            "grid_row": null,
            "max_height": null,
            "align_content": null,
            "visibility": null,
            "align_self": null,
            "height": null,
            "min_height": null,
            "padding": null,
            "grid_auto_rows": null,
            "grid_gap": null,
            "max_width": null,
            "order": null,
            "_view_module_version": "1.2.0",
            "grid_template_areas": null,
            "object_position": null,
            "object_fit": null,
            "grid_auto_columns": null,
            "margin": null,
            "display": null,
            "left": null
          }
        },
        "2f47d989249f403184eca61b1f75cff3": {
          "model_module": "@jupyter-widgets/controls",
          "model_name": "FloatProgressModel",
          "state": {
            "_view_name": "ProgressView",
            "style": "IPY_MODEL_478b2053ab204410b8c1463bb0c4f599",
            "_dom_classes": [],
            "description": "100%",
            "_model_name": "FloatProgressModel",
            "bar_style": "success",
            "max": 108857766,
            "_view_module": "@jupyter-widgets/controls",
            "_model_module_version": "1.5.0",
            "value": 108857766,
            "_view_count": null,
            "_view_module_version": "1.5.0",
            "orientation": "horizontal",
            "min": 0,
            "description_tooltip": null,
            "_model_module": "@jupyter-widgets/controls",
            "layout": "IPY_MODEL_40d556c6727c4c1987acb3e7f7a96fc9"
          }
        },
        "fdbb91422def4240a46a5eb29508c56e": {
          "model_module": "@jupyter-widgets/controls",
          "model_name": "HTMLModel",
          "state": {
            "_view_name": "HTMLView",
            "style": "IPY_MODEL_871eb88e43f24f4f8ccbf763db9a4177",
            "_dom_classes": [],
            "description": "",
            "_model_name": "HTMLModel",
            "placeholder": "​",
            "_view_module": "@jupyter-widgets/controls",
            "_model_module_version": "1.5.0",
            "value": " 104M/104M [00:01&lt;00:00, 57.1MB/s]",
            "_view_count": null,
            "_view_module_version": "1.5.0",
            "description_tooltip": null,
            "_model_module": "@jupyter-widgets/controls",
            "layout": "IPY_MODEL_4280980bb1f943d888a892e149974cec"
          }
        },
        "478b2053ab204410b8c1463bb0c4f599": {
          "model_module": "@jupyter-widgets/controls",
          "model_name": "ProgressStyleModel",
          "state": {
            "_view_name": "StyleView",
            "_model_name": "ProgressStyleModel",
            "description_width": "initial",
            "_view_module": "@jupyter-widgets/base",
            "_model_module_version": "1.5.0",
            "_view_count": null,
            "_view_module_version": "1.2.0",
            "bar_color": null,
            "_model_module": "@jupyter-widgets/controls"
          }
        },
        "40d556c6727c4c1987acb3e7f7a96fc9": {
          "model_module": "@jupyter-widgets/base",
          "model_name": "LayoutModel",
          "state": {
            "_view_name": "LayoutView",
            "grid_template_rows": null,
            "right": null,
            "justify_content": null,
            "_view_module": "@jupyter-widgets/base",
            "overflow": null,
            "_model_module_version": "1.2.0",
            "_view_count": null,
            "flex_flow": null,
            "width": null,
            "min_width": null,
            "border": null,
            "align_items": null,
            "bottom": null,
            "_model_module": "@jupyter-widgets/base",
            "top": null,
            "grid_column": null,
            "overflow_y": null,
            "overflow_x": null,
            "grid_auto_flow": null,
            "grid_area": null,
            "grid_template_columns": null,
            "flex": null,
            "_model_name": "LayoutModel",
            "justify_items": null,
            "grid_row": null,
            "max_height": null,
            "align_content": null,
            "visibility": null,
            "align_self": null,
            "height": null,
            "min_height": null,
            "padding": null,
            "grid_auto_rows": null,
            "grid_gap": null,
            "max_width": null,
            "order": null,
            "_view_module_version": "1.2.0",
            "grid_template_areas": null,
            "object_position": null,
            "object_fit": null,
            "grid_auto_columns": null,
            "margin": null,
            "display": null,
            "left": null
          }
        },
        "871eb88e43f24f4f8ccbf763db9a4177": {
          "model_module": "@jupyter-widgets/controls",
          "model_name": "DescriptionStyleModel",
          "state": {
            "_view_name": "StyleView",
            "_model_name": "DescriptionStyleModel",
            "description_width": "",
            "_view_module": "@jupyter-widgets/base",
            "_model_module_version": "1.5.0",
            "_view_count": null,
            "_view_module_version": "1.2.0",
            "_model_module": "@jupyter-widgets/controls"
          }
        },
        "4280980bb1f943d888a892e149974cec": {
          "model_module": "@jupyter-widgets/base",
          "model_name": "LayoutModel",
          "state": {
            "_view_name": "LayoutView",
            "grid_template_rows": null,
            "right": null,
            "justify_content": null,
            "_view_module": "@jupyter-widgets/base",
            "overflow": null,
            "_model_module_version": "1.2.0",
            "_view_count": null,
            "flex_flow": null,
            "width": null,
            "min_width": null,
            "border": null,
            "align_items": null,
            "bottom": null,
            "_model_module": "@jupyter-widgets/base",
            "top": null,
            "grid_column": null,
            "overflow_y": null,
            "overflow_x": null,
            "grid_auto_flow": null,
            "grid_area": null,
            "grid_template_columns": null,
            "flex": null,
            "_model_name": "LayoutModel",
            "justify_items": null,
            "grid_row": null,
            "max_height": null,
            "align_content": null,
            "visibility": null,
            "align_self": null,
            "height": null,
            "min_height": null,
            "padding": null,
            "grid_auto_rows": null,
            "grid_gap": null,
            "max_width": null,
            "order": null,
            "_view_module_version": "1.2.0",
            "grid_template_areas": null,
            "object_position": null,
            "object_fit": null,
            "grid_auto_columns": null,
            "margin": null,
            "display": null,
            "left": null
          }
        }
      }
    }
  },
  "cells": [
    {
      "cell_type": "markdown",
      "metadata": {
        "id": "view-in-github",
        "colab_type": "text"
      },
      "source": [
        "<a href=\"https://colab.research.google.com/github/RATANAJANGIR/signboard-detection-and-translations/blob/main/text_recognition.ipynb\" target=\"_parent\"><img src=\"https://colab.research.google.com/assets/colab-badge.svg\" alt=\"Open In Colab\"/></a>"
      ]
    },
    {
      "cell_type": "markdown",
      "metadata": {
        "id": "Udg1hOdebnM0"
      },
      "source": [
        "Loads the dataset and the pickle file generated from preprocessing and trains an encoder decoder model"
      ]
    },
    {
      "cell_type": "code",
      "metadata": {
        "colab": {
          "base_uri": "https://localhost:8080/"
        },
        "id": "K0vlPhGMr8OA",
        "outputId": "6529dafe-6f01-4437-8f11-d599747681f6"
      },
      "source": [
        "!pip install torch==1.6.0 torchvision==0.7.0"
      ],
      "execution_count": null,
      "outputs": [
        {
          "output_type": "stream",
          "text": [
            "Collecting torch==1.6.0\n",
            "\u001b[?25l  Downloading https://files.pythonhosted.org/packages/5d/5e/35140615fc1f925023f489e71086a9ecc188053d263d3594237281284d82/torch-1.6.0-cp37-cp37m-manylinux1_x86_64.whl (748.8MB)\n",
            "\u001b[K     |████████████████████████████████| 748.8MB 19kB/s \n",
            "\u001b[33mWARNING: Retrying (Retry(total=4, connect=None, read=None, redirect=None, status=None)) after connection broken by 'ProtocolError('Connection aborted.', ConnectionResetError(104, 'Connection reset by peer'))': /simple/torchvision/\u001b[0m\n",
            "\u001b[?25hCollecting torchvision==0.7.0\n",
            "\u001b[?25l  Downloading https://files.pythonhosted.org/packages/4d/b5/60d5eb61f1880707a5749fea43e0ec76f27dfe69391cdec953ab5da5e676/torchvision-0.7.0-cp37-cp37m-manylinux1_x86_64.whl (5.9MB)\n",
            "\u001b[K     |████████████████████████████████| 5.9MB 30.4MB/s \n",
            "\u001b[?25hRequirement already satisfied: numpy in /usr/local/lib/python3.7/dist-packages (from torch==1.6.0) (1.19.5)\n",
            "Requirement already satisfied: future in /usr/local/lib/python3.7/dist-packages (from torch==1.6.0) (0.16.0)\n",
            "Requirement already satisfied: pillow>=4.1.1 in /usr/local/lib/python3.7/dist-packages (from torchvision==0.7.0) (7.1.2)\n",
            "\u001b[31mERROR: torchtext 0.9.1 has requirement torch==1.8.1, but you'll have torch 1.6.0 which is incompatible.\u001b[0m\n",
            "Installing collected packages: torch, torchvision\n",
            "  Found existing installation: torch 1.8.1+cu101\n",
            "    Uninstalling torch-1.8.1+cu101:\n",
            "      Successfully uninstalled torch-1.8.1+cu101\n",
            "  Found existing installation: torchvision 0.9.1+cu101\n",
            "    Uninstalling torchvision-0.9.1+cu101:\n",
            "      Successfully uninstalled torchvision-0.9.1+cu101\n",
            "Successfully installed torch-1.6.0 torchvision-0.7.0\n"
          ],
          "name": "stdout"
        }
      ]
    },
    {
      "cell_type": "code",
      "metadata": {
        "colab": {
          "base_uri": "https://localhost:8080/"
        },
        "id": "qnRdfXnHptIN",
        "outputId": "18eb58c6-5b78-4f1a-85c3-d33a4e4eb20e"
      },
      "source": [
        "from google.colab import drive\n",
        "drive.mount('/content/drive')"
      ],
      "execution_count": null,
      "outputs": [
        {
          "output_type": "stream",
          "text": [
            "Mounted at /content/drive\n"
          ],
          "name": "stdout"
        }
      ]
    },
    {
      "cell_type": "markdown",
      "metadata": {
        "id": "EKdagVYwwICC"
      },
      "source": [
        "**Data Preprocessing**"
      ]
    },
    {
      "cell_type": "code",
      "metadata": {
        "id": "mn1Ut2XdrjnE"
      },
      "source": [
        "import unicodedata\n",
        "import pandas as pd\n",
        "from tqdm import tqdm"
      ],
      "execution_count": null,
      "outputs": []
    },
    {
      "cell_type": "code",
      "metadata": {
        "id": "Q4Ij3gD-rpkY"
      },
      "source": [
        "# These ranges are in hexadecimal format\n",
        "def _unicode_to_idx_map(lower_range, upper_range, start_index):\n",
        "    l_range = int(lower_range, 16) \n",
        "    u_range = int(upper_range, 16)\n",
        "    name2idx = dict()\n",
        "    idx = start_index\n",
        "    for char_code in range(l_range, u_range + 1):\n",
        "        code_point = chr(char_code)\n",
        "        char_name = unicodedata.name(code_point)\n",
        "        name2idx[char_name] = idx\n",
        "        idx = idx + 1\n",
        "    return name2idx, idx "
      ],
      "execution_count": null,
      "outputs": []
    },
    {
      "cell_type": "code",
      "metadata": {
        "id": "hJT1jObtrsfq"
      },
      "source": [
        "start_index = 3  ## Start from 3 as the first three inidices are reserved for <start> <stop> and <PAD> token\n",
        "name2idx, idx = _unicode_to_idx_map(\"0900\", \"094D\", start_index)\n",
        "digits, idx = _unicode_to_idx_map(\"0966\", \"096F\", idx)\n",
        "om, idx = _unicode_to_idx_map(\"0950\", \"0950\", idx)\n",
        "additional, idx = _unicode_to_idx_map(\"0958\", \"095F\", idx)\n",
        "\n",
        "name2idx.update(digits)\n",
        "name2idx.update(om)\n",
        "name2idx.update(additional)"
      ],
      "execution_count": null,
      "outputs": []
    },
    {
      "cell_type": "code",
      "metadata": {
        "id": "V2HUD1fJrvs1"
      },
      "source": [
        "def get_labels(text, name2idx):\n",
        "    labels = list()\n",
        "    for char in text:\n",
        "        name = unicodedata.name(char)\n",
        "        index = name2idx[name]\n",
        "        labels.append(index)\n",
        "    return labels"
      ],
      "execution_count": null,
      "outputs": []
    },
    {
      "cell_type": "code",
      "metadata": {
        "id": "2CS04e5NrzVk"
      },
      "source": [
        "annotation_file_loc = '/content/drive/MyDrive/EE626_Project/cropped_data/annotations.txt'\n",
        "with open(annotation_file_loc) as fp:\n",
        "    # find the max length of the data labels for padding\n",
        "    labels = list()\n",
        "    for line in fp.readlines():\n",
        "        hindi_text = line.split('\\t')[1].strip()\n",
        "        try:\n",
        "            labels.append(get_labels(hindi_text, name2idx))\n",
        "        except KeyError:\n",
        "            pass\n",
        "    max_len = max([len(label) for label in labels]) + 2  # including start and stop symbols"
      ],
      "execution_count": null,
      "outputs": []
    },
    {
      "cell_type": "code",
      "metadata": {
        "colab": {
          "base_uri": "https://localhost:8080/"
        },
        "id": "mdDpuyc_T6I5",
        "outputId": "602bf4a4-4d21-4aac-d4d0-e4a1d69748ee"
      },
      "source": [
        "max_len"
      ],
      "execution_count": null,
      "outputs": [
        {
          "output_type": "execute_result",
          "data": {
            "text/plain": [
              "16"
            ]
          },
          "metadata": {
            "tags": []
          },
          "execution_count": 8
        }
      ]
    },
    {
      "cell_type": "code",
      "metadata": {
        "colab": {
          "base_uri": "https://localhost:8080/"
        },
        "id": "9nEYH6srr36z",
        "outputId": "80864df5-9aaf-44e6-e9b8-b324cdfac278"
      },
      "source": [
        "cols = ['name', 'text', 'labels', 'unpadded_length']\n",
        "annotation_df = pd.DataFrame()\n",
        "with open(annotation_file_loc) as fp:\n",
        "    data = {}\n",
        "    for line in tqdm(fp.readlines()):\n",
        "        img_path, hindi_text = line.split('\\t')[:2]\n",
        "        img_path = img_path.strip()\n",
        "        hindi_text = hindi_text.strip()\n",
        "        data['name'] = img_path\n",
        "        data['text'] = f\"<start> {hindi_text} <stop>\"\n",
        "        label = [0]  ## Initialize with the <start> token\n",
        "        try:\n",
        "            label.extend(get_labels(hindi_text, name2idx))\n",
        "        except KeyError:\n",
        "            continue\n",
        "        label.append(1)  ## End with the <stop> token\n",
        "        data['unpadded_length'] = int(len(label))\n",
        "        extra_padding = max_len - len(label)\n",
        "        label.extend([2] * extra_padding)\n",
        "        data['labels'] = label\n",
        "        annotation_df = annotation_df.append(data, ignore_index=True)"
      ],
      "execution_count": null,
      "outputs": [
        {
          "output_type": "stream",
          "text": [
            "100%|██████████| 1740/1740 [00:05<00:00, 313.13it/s]\n"
          ],
          "name": "stderr"
        }
      ]
    },
    {
      "cell_type": "code",
      "metadata": {
        "colab": {
          "base_uri": "https://localhost:8080/"
        },
        "id": "C73NwHz-r7Kw",
        "outputId": "01760812-51e2-47ab-bb6b-2c3b9c96d124"
      },
      "source": [
        "print(annotation_df.head())\n",
        "annotation_df.to_pickle('/content/drive/MyDrive/EE626_Project/cropped_data/annotation_cropped_preprocessed.pkl')"
      ],
      "execution_count": null,
      "outputs": [
        {
          "output_type": "stream",
          "text": [
            "                                              labels  ... unpadded_length\n",
            "0  [0, 31, 53, 1, 2, 2, 2, 2, 2, 2, 2, 2, 2, 2, 2...  ...             4.0\n",
            "1  [0, 57, 78, 42, 1, 2, 2, 2, 2, 2, 2, 2, 2, 2, ...  ...             5.0\n",
            "2  [0, 43, 1, 2, 2, 2, 2, 2, 2, 2, 2, 2, 2, 2, 2, 2]  ...             3.0\n",
            "3  [0, 59, 5, 50, 5, 39, 80, 51, 1, 2, 2, 2, 2, 2...  ...             9.0\n",
            "4  [0, 47, 66, 43, 65, 1, 2, 2, 2, 2, 2, 2, 2, 2,...  ...             6.0\n",
            "\n",
            "[5 rows x 4 columns]\n"
          ],
          "name": "stdout"
        }
      ]
    },
    {
      "cell_type": "code",
      "metadata": {
        "colab": {
          "base_uri": "https://localhost:8080/",
          "height": 204
        },
        "id": "Txik3pl-Uzo9",
        "outputId": "5cd0b7b5-e37e-4aea-ae72-26af9ba52ac4"
      },
      "source": [
        "annotation_df.head()"
      ],
      "execution_count": null,
      "outputs": [
        {
          "output_type": "execute_result",
          "data": {
            "text/html": [
              "<div>\n",
              "<style scoped>\n",
              "    .dataframe tbody tr th:only-of-type {\n",
              "        vertical-align: middle;\n",
              "    }\n",
              "\n",
              "    .dataframe tbody tr th {\n",
              "        vertical-align: top;\n",
              "    }\n",
              "\n",
              "    .dataframe thead th {\n",
              "        text-align: right;\n",
              "    }\n",
              "</style>\n",
              "<table border=\"1\" class=\"dataframe\">\n",
              "  <thead>\n",
              "    <tr style=\"text-align: right;\">\n",
              "      <th></th>\n",
              "      <th>labels</th>\n",
              "      <th>name</th>\n",
              "      <th>text</th>\n",
              "      <th>unpadded_length</th>\n",
              "    </tr>\n",
              "  </thead>\n",
              "  <tbody>\n",
              "    <tr>\n",
              "      <th>0</th>\n",
              "      <td>[0, 31, 53, 1, 2, 2, 2, 2, 2, 2, 2, 2, 2, 2, 2...</td>\n",
              "      <td>cropped_dir/0.jpg</td>\n",
              "      <td>&lt;start&gt; जल &lt;stop&gt;</td>\n",
              "      <td>4.0</td>\n",
              "    </tr>\n",
              "    <tr>\n",
              "      <th>1</th>\n",
              "      <td>[0, 57, 78, 42, 1, 2, 2, 2, 2, 2, 2, 2, 2, 2, ...</td>\n",
              "      <td>cropped_dir/1.jpg</td>\n",
              "      <td>&lt;start&gt; शोध &lt;stop&gt;</td>\n",
              "      <td>5.0</td>\n",
              "    </tr>\n",
              "    <tr>\n",
              "      <th>2</th>\n",
              "      <td>[0, 43, 1, 2, 2, 2, 2, 2, 2, 2, 2, 2, 2, 2, 2, 2]</td>\n",
              "      <td>cropped_dir/2.jpg</td>\n",
              "      <td>&lt;start&gt; न &lt;stop&gt;</td>\n",
              "      <td>3.0</td>\n",
              "    </tr>\n",
              "    <tr>\n",
              "      <th>3</th>\n",
              "      <td>[0, 59, 5, 50, 5, 39, 80, 51, 1, 2, 2, 2, 2, 2...</td>\n",
              "      <td>cropped_dir/3.jpg</td>\n",
              "      <td>&lt;start&gt; संयंत्र &lt;stop&gt;</td>\n",
              "      <td>9.0</td>\n",
              "    </tr>\n",
              "    <tr>\n",
              "      <th>4</th>\n",
              "      <td>[0, 47, 66, 43, 65, 1, 2, 2, 2, 2, 2, 2, 2, 2,...</td>\n",
              "      <td>cropped_dir/4.jpg</td>\n",
              "      <td>&lt;start&gt; बिना &lt;stop&gt;</td>\n",
              "      <td>6.0</td>\n",
              "    </tr>\n",
              "  </tbody>\n",
              "</table>\n",
              "</div>"
            ],
            "text/plain": [
              "                                              labels  ... unpadded_length\n",
              "0  [0, 31, 53, 1, 2, 2, 2, 2, 2, 2, 2, 2, 2, 2, 2...  ...             4.0\n",
              "1  [0, 57, 78, 42, 1, 2, 2, 2, 2, 2, 2, 2, 2, 2, ...  ...             5.0\n",
              "2  [0, 43, 1, 2, 2, 2, 2, 2, 2, 2, 2, 2, 2, 2, 2, 2]  ...             3.0\n",
              "3  [0, 59, 5, 50, 5, 39, 80, 51, 1, 2, 2, 2, 2, 2...  ...             9.0\n",
              "4  [0, 47, 66, 43, 65, 1, 2, 2, 2, 2, 2, 2, 2, 2,...  ...             6.0\n",
              "\n",
              "[5 rows x 4 columns]"
            ]
          },
          "metadata": {
            "tags": []
          },
          "execution_count": 11
        }
      ]
    },
    {
      "cell_type": "markdown",
      "metadata": {
        "id": "351B2F3ysjFu"
      },
      "source": [
        "## Data loading"
      ]
    },
    {
      "cell_type": "code",
      "metadata": {
        "id": "_5oyIHQkrgEg"
      },
      "source": [
        "import numpy as np\n",
        "import pandas as pd\n",
        "import matplotlib.pyplot as plt\n",
        "import torch"
      ],
      "execution_count": null,
      "outputs": []
    },
    {
      "cell_type": "code",
      "metadata": {
        "id": "_K6ESMa-uXA_"
      },
      "source": [
        "random_state = 2021"
      ],
      "execution_count": null,
      "outputs": []
    },
    {
      "cell_type": "code",
      "metadata": {
        "id": "VP0oGsUHr4Qy",
        "colab": {
          "base_uri": "https://localhost:8080/",
          "height": 204
        },
        "outputId": "8b9ee124-ce39-4cf2-d260-05afa49e1363"
      },
      "source": [
        "\"\"\"\n",
        "The tokens <start> <stop> and <UNK> have the indices 0, 1, 2 respectively\n",
        "\"\"\"\n",
        "sos_id = 0\n",
        "eos_id = 1\n",
        "pad_id = 2\n",
        "annotation_file_path = '/content/drive/MyDrive/EE626_Project/cropped_data/annotation_cropped_preprocessed.pkl'\n",
        "img_loc = '/content/drive/MyDrive/EE626_Project/cropped_data/cropped_dir'\n",
        "\n",
        "annotation_df = pd.read_pickle(annotation_file_path)\n",
        "annotation_df.head()"
      ],
      "execution_count": null,
      "outputs": [
        {
          "output_type": "execute_result",
          "data": {
            "text/html": [
              "<div>\n",
              "<style scoped>\n",
              "    .dataframe tbody tr th:only-of-type {\n",
              "        vertical-align: middle;\n",
              "    }\n",
              "\n",
              "    .dataframe tbody tr th {\n",
              "        vertical-align: top;\n",
              "    }\n",
              "\n",
              "    .dataframe thead th {\n",
              "        text-align: right;\n",
              "    }\n",
              "</style>\n",
              "<table border=\"1\" class=\"dataframe\">\n",
              "  <thead>\n",
              "    <tr style=\"text-align: right;\">\n",
              "      <th></th>\n",
              "      <th>labels</th>\n",
              "      <th>name</th>\n",
              "      <th>text</th>\n",
              "      <th>unpadded_length</th>\n",
              "    </tr>\n",
              "  </thead>\n",
              "  <tbody>\n",
              "    <tr>\n",
              "      <th>0</th>\n",
              "      <td>[0, 31, 53, 1, 2, 2, 2, 2, 2, 2, 2, 2, 2, 2, 2...</td>\n",
              "      <td>cropped_dir/0.jpg</td>\n",
              "      <td>&lt;start&gt; जल &lt;stop&gt;</td>\n",
              "      <td>4.0</td>\n",
              "    </tr>\n",
              "    <tr>\n",
              "      <th>1</th>\n",
              "      <td>[0, 57, 78, 42, 1, 2, 2, 2, 2, 2, 2, 2, 2, 2, ...</td>\n",
              "      <td>cropped_dir/1.jpg</td>\n",
              "      <td>&lt;start&gt; शोध &lt;stop&gt;</td>\n",
              "      <td>5.0</td>\n",
              "    </tr>\n",
              "    <tr>\n",
              "      <th>2</th>\n",
              "      <td>[0, 43, 1, 2, 2, 2, 2, 2, 2, 2, 2, 2, 2, 2, 2, 2]</td>\n",
              "      <td>cropped_dir/2.jpg</td>\n",
              "      <td>&lt;start&gt; न &lt;stop&gt;</td>\n",
              "      <td>3.0</td>\n",
              "    </tr>\n",
              "    <tr>\n",
              "      <th>3</th>\n",
              "      <td>[0, 59, 5, 50, 5, 39, 80, 51, 1, 2, 2, 2, 2, 2...</td>\n",
              "      <td>cropped_dir/3.jpg</td>\n",
              "      <td>&lt;start&gt; संयंत्र &lt;stop&gt;</td>\n",
              "      <td>9.0</td>\n",
              "    </tr>\n",
              "    <tr>\n",
              "      <th>4</th>\n",
              "      <td>[0, 47, 66, 43, 65, 1, 2, 2, 2, 2, 2, 2, 2, 2,...</td>\n",
              "      <td>cropped_dir/4.jpg</td>\n",
              "      <td>&lt;start&gt; बिना &lt;stop&gt;</td>\n",
              "      <td>6.0</td>\n",
              "    </tr>\n",
              "  </tbody>\n",
              "</table>\n",
              "</div>"
            ],
            "text/plain": [
              "                                              labels  ... unpadded_length\n",
              "0  [0, 31, 53, 1, 2, 2, 2, 2, 2, 2, 2, 2, 2, 2, 2...  ...             4.0\n",
              "1  [0, 57, 78, 42, 1, 2, 2, 2, 2, 2, 2, 2, 2, 2, ...  ...             5.0\n",
              "2  [0, 43, 1, 2, 2, 2, 2, 2, 2, 2, 2, 2, 2, 2, 2, 2]  ...             3.0\n",
              "3  [0, 59, 5, 50, 5, 39, 80, 51, 1, 2, 2, 2, 2, 2...  ...             9.0\n",
              "4  [0, 47, 66, 43, 65, 1, 2, 2, 2, 2, 2, 2, 2, 2,...  ...             6.0\n",
              "\n",
              "[5 rows x 4 columns]"
            ]
          },
          "metadata": {
            "tags": []
          },
          "execution_count": 14
        }
      ]
    },
    {
      "cell_type": "code",
      "metadata": {
        "id": "MTKaivvdshhu",
        "colab": {
          "base_uri": "https://localhost:8080/"
        },
        "outputId": "ece49cac-faea-4146-e05e-254c49db9746"
      },
      "source": [
        "# Train test split\n",
        "from sklearn.model_selection import train_test_split\n",
        "\n",
        "train_df, test_df = train_test_split(annotation_df, test_size=0.10, random_state=random_state, shuffle=True)\n",
        "train_df, val_df = train_test_split(train_df, test_size=0.05, random_state=random_state, shuffle=True)\n",
        "print(train_df.shape)\n",
        "print(val_df.shape)\n",
        "print(test_df.shape)"
      ],
      "execution_count": null,
      "outputs": [
        {
          "output_type": "stream",
          "text": [
            "(1487, 4)\n",
            "(79, 4)\n",
            "(174, 4)\n"
          ],
          "name": "stdout"
        }
      ]
    },
    {
      "cell_type": "markdown",
      "metadata": {
        "id": "ZS9nvzFpMpbj"
      },
      "source": [
        "## Create pytorch dataset"
      ]
    },
    {
      "cell_type": "code",
      "metadata": {
        "id": "Vj363pxHu116"
      },
      "source": [
        "from torch.utils.data import Dataset, DataLoader\n",
        "import os\n",
        "from PIL import Image\n",
        "import cv2\n",
        "from tqdm import tqdm"
      ],
      "execution_count": null,
      "outputs": []
    },
    {
      "cell_type": "code",
      "metadata": {
        "id": "jU1CBiHFQqWu"
      },
      "source": [
        "class HindiText(Dataset):\n",
        "    def __init__(self, base_dir, num_classes, transform=None, df=None, annotation_file_path=None):\n",
        "        super().__init__()\n",
        "        self.transform = transform\n",
        "        if annotation_file_path is not None:\n",
        "            annotation_ext = os.path.splitext(annotation_file_path)\n",
        "            if annotation_ext is 'csv':\n",
        "                self.annotation_df = pd.read_csv(annotation_file_path)\n",
        "            elif annotation_ext is 'pkl':\n",
        "                self.annotation_df = pd.read_pickle(annotation_file_path)\n",
        "            else:\n",
        "                raise ValueError('Only the (.csv, .pkl) extensions are supported')\n",
        "        elif df is not None:\n",
        "            self.annotation_df = df\n",
        "        else:\n",
        "            raise ValueError('Only one of `df` and `annotation_file_path` can be provided')\n",
        "\n",
        "        self.images = []\n",
        "        self.targets = []\n",
        "        self.lengths = []\n",
        "\n",
        "        for idx in tqdm(range(len(self.annotation_df))):\n",
        "            obj = self.annotation_df.iloc[idx]\n",
        "            img_path = os.path.join(base_dir, obj['name'])\n",
        "            img = cv2.imread(img_path)\n",
        "            try:\n",
        "                img = Image.fromarray(img)\n",
        "            except:\n",
        "                continue\n",
        "            self.images.append(img)\n",
        "            self.targets.append(torch.as_tensor(obj['labels'], dtype=torch.int64))\n",
        "            self.lengths.append(torch.as_tensor(obj['unpadded_length'], dtype=torch.int64))\n",
        "\n",
        "    def __len__(self):\n",
        "        return len(self.images)\n",
        "\n",
        "    def __getitem__(self, idx):\n",
        "        image = self.images[idx]\n",
        "        target = self.targets[idx]\n",
        "        orig_length = self.lengths[idx]\n",
        "        if self.transform:\n",
        "            image = self.transform(image)\n",
        "        return image, target, orig_length\n",
        "        "
      ],
      "execution_count": null,
      "outputs": []
    },
    {
      "cell_type": "code",
      "metadata": {
        "id": "8RdYvfdWcCAG"
      },
      "source": [
        "# Define the transforms for the train set\n",
        "from torchvision import transforms\n",
        "\n",
        "def get_transforms(train=False):\n",
        "    T = list()\n",
        "    if train:\n",
        "        # Add more transforms here\n",
        "        # T.append(transforms.RandomGrayscale(p=0.5))\n",
        "        pass\n",
        "    # T.append(transforms.Resize((224, 224)))  # Used for VGG\n",
        "    T.append(transforms.Resize((299, 299)))  # Used for inception_v3\n",
        "    T.append(transforms.ToTensor())\n",
        "    return transforms.Compose(T)"
      ],
      "execution_count": null,
      "outputs": []
    },
    {
      "cell_type": "code",
      "metadata": {
        "id": "DPohElu7aCjP",
        "colab": {
          "base_uri": "https://localhost:8080/"
        },
        "outputId": "08d38d8f-127d-4895-999b-c45db4fb607d"
      },
      "source": [
        "base_dir = '/content/drive/MyDrive/EE626_Project/cropped_data'\n",
        "# base_dir = \"\"\n",
        "num_classes = 100\n",
        "train_dataset = HindiText(base_dir, num_classes, df=train_df, transform=get_transforms(train=True))\n",
        "val_dataset = HindiText(base_dir, num_classes, df=val_df, transform=get_transforms())\n",
        "test_dataset = HindiText(base_dir, num_classes, df=test_df, transform=get_transforms())"
      ],
      "execution_count": null,
      "outputs": [
        {
          "output_type": "stream",
          "text": [
            "100%|██████████| 1487/1487 [07:01<00:00,  3.53it/s]\n",
            "100%|██████████| 79/79 [00:20<00:00,  3.84it/s]\n",
            "100%|██████████| 174/174 [00:46<00:00,  3.78it/s]\n"
          ],
          "name": "stderr"
        }
      ]
    },
    {
      "cell_type": "code",
      "metadata": {
        "id": "0E-lTRdNbPLy",
        "colab": {
          "base_uri": "https://localhost:8080/",
          "height": 303
        },
        "outputId": "bd806076-7488-4879-b420-eadda84e8768"
      },
      "source": [
        "# Sanity check the dataset creation\n",
        "sample_image, sample_target, sample_length = train_dataset[0]\n",
        "plt.imshow(sample_image.permute(1, 2, 0))\n",
        "print(sample_target.shape)\n",
        "print(sample_length)"
      ],
      "execution_count": null,
      "outputs": [
        {
          "output_type": "stream",
          "text": [
            "torch.Size([16])\n",
            "tensor(12)\n"
          ],
          "name": "stdout"
        },
        {
          "output_type": "display_data",
          "data": {
            "image/png": "[encoded data removed]",
            "text/plain": [
              "<Figure size 432x288 with 1 Axes>"
            ]
          },
          "metadata": {
            "tags": [],
            "needs_background": "light"
          }
        }
      ]
    },
    {
      "cell_type": "markdown",
      "metadata": {
        "id": "rfQIZKryh2Rp"
      },
      "source": [
        "## Define the encoder decoder model here\n",
        "\n",
        "Using the encoder decoder implementation from the paper `Show and Tell` with a pretrained VGG-16 encoder and a untrained Bi-LSTM model in the decoder. Not using the attention model for generating the characters. The decoder is a character level RNN.\n",
        "\n",
        "The Encoder is a VGG-11 model with batch normalization."
      ]
    },
    {
      "cell_type": "code",
      "metadata": {
        "id": "ZfYpR_omdIRI"
      },
      "source": [
        "import torchvision.models as models\n",
        "import torch.nn as nn"
      ],
      "execution_count": null,
      "outputs": []
    },
    {
      "cell_type": "code",
      "metadata": {
        "id": "42HqYRujjIMR"
      },
      "source": [
        "class Encoder(nn.Module):\n",
        "    def __init__(self, output_size):\n",
        "        super().__init__()\n",
        "        # self.encoder = models.vgg16_bn(pretrained=True)\n",
        "        self.encoder = models.inception_v3(pretrained=True, aux_logits=False)\n",
        "        # self.encoder.classifier[6] = nn.Linear(in_features=4096, out_features=output_size, bias=False)\n",
        "        self.encoder.fc = nn.Linear(in_features=2048, out_features=output_size, bias=False)\n",
        "\n",
        "        # Freeze the model params except the classifier block of the network\n",
        "        freeze_layer = 'Mixed_7c.branch_pool.conv.weight'\n",
        "        # freeze_layer = 'Mixed_7a.branch3x3_1.conv.weight'\n",
        "        for name, param in self.encoder.named_parameters():\n",
        "            if name == freeze_layer:\n",
        "                break\n",
        "            param.requires_grad = False\n",
        "\n",
        "    def forward(self, input):\n",
        "        output = self.encoder(input)\n",
        "        return output"
      ],
      "execution_count": null,
      "outputs": []
    },
    {
      "cell_type": "code",
      "metadata": {
        "id": "N4jYMqh9YizO",
        "colab": {
          "base_uri": "https://localhost:8080/"
        },
        "outputId": "2f577f08-6408-4c50-970c-6e3a0672b177"
      },
      "source": [
        "# Sanity check the model\n",
        "print(len(train_dataset))\n",
        "train_loader = torch.utils.data.DataLoader(train_dataset, batch_size=32, shuffle=True, num_workers=4)\n",
        "sample_batch, sample_labels, sample_lengths = next(iter(train_loader))\n",
        "sample_batch = sample_batch.cuda()\n",
        "sample_labels = sample_labels.cuda()\n",
        "print(sample_batch.shape)\n",
        "print(sample_labels.shape)"
      ],
      "execution_count": null,
      "outputs": [
        {
          "output_type": "stream",
          "text": [
            "1487\n",
            "torch.Size([32, 3, 299, 299])\n",
            "torch.Size([32, 16])\n"
          ],
          "name": "stdout"
        }
      ]
    },
    {
      "cell_type": "code",
      "metadata": {
        "id": "bs1PbEFeYoe9",
        "colab": {
          "base_uri": "https://localhost:8080/",
          "height": 100,
          "referenced_widgets": [
            "536da9408c8c4faab3a4c79b043b1e6c",
            "4e92f73523894aa2b383f38db5624748",
            "2f47d989249f403184eca61b1f75cff3",
            "fdbb91422def4240a46a5eb29508c56e",
            "478b2053ab204410b8c1463bb0c4f599",
            "40d556c6727c4c1987acb3e7f7a96fc9",
            "871eb88e43f24f4f8ccbf763db9a4177",
            "4280980bb1f943d888a892e149974cec"
          ]
        },
        "outputId": "7940e96b-c3dc-4d72-f0b7-62576143d081"
      },
      "source": [
        "output_size = 512\n",
        "encoder = Encoder(output_size).cuda()\n",
        "sample_features = encoder(sample_batch)\n",
        "print(sample_features.shape)"
      ],
      "execution_count": null,
      "outputs": [
        {
          "output_type": "stream",
          "text": [
            "Downloading: \"https://download.pytorch.org/models/inception_v3_google-1a9a5a14.pth\" to /root/.cache/torch/hub/checkpoints/inception_v3_google-1a9a5a14.pth\n"
          ],
          "name": "stderr"
        },
        {
          "output_type": "display_data",
          "data": {
            "application/vnd.jupyter.widget-view+json": {
              "model_id": "536da9408c8c4faab3a4c79b043b1e6c",
              "version_minor": 0,
              "version_major": 2
            },
            "text/plain": [
              "HBox(children=(FloatProgress(value=0.0, max=108857766.0), HTML(value='')))"
            ]
          },
          "metadata": {
            "tags": []
          }
        },
        {
          "output_type": "stream",
          "text": [
            "\n",
            "torch.Size([32, 512])\n"
          ],
          "name": "stdout"
        }
      ]
    },
    {
      "cell_type": "code",
      "metadata": {
        "id": "1R-idV7NbKOr"
      },
      "source": [
        "# Define the Decoder\n",
        "class Decoder(nn.Module):\n",
        "    def __init__(self, hidden_size, output_size, pad_id, num_layers=1, dropout=0, bi=False):\n",
        "        super().__init__()\n",
        "        self.pad_id = pad_id\n",
        "        self.embedding = nn.Embedding(output_size, hidden_size, padding_idx=self.pad_id)\n",
        "        # self.lstm = nn.LSTM(hidden_size, hidden_size, num_layers=num_layers, bias=False, batch_first=True, dropout=dropout, bidirectional=bi)\n",
        "        self.gru = nn.GRU(hidden_size, hidden_size, num_layers=num_layers, bias=False, batch_first=True, dropout=dropout, bidirectional=bi)\n",
        "        if bi is True:\n",
        "            hidden_size = 2 * hidden_size\n",
        "        self.linear = nn.Linear(hidden_size, output_size, bias=False)\n",
        "        # Incoming dim would be (batch_size, seq_len, output_size)\n",
        "        self.softmax = nn.LogSoftmax(dim=2)\n",
        "\n",
        "    def forward(self, input, hidden_state, lengths):\n",
        "        embedding = self.embedding(input)\n",
        "\n",
        "        # Pack the padded embedding sequence\n",
        "        packed_seq = nn.utils.rnn.pack_padded_sequence(embedding, lengths, batch_first=True, enforce_sorted=False)\n",
        "        # output, (h_state, c_state) = self.lstm(packed_seq, hidden_state)\n",
        "        output, h_state = self.gru(packed_seq, hidden_state)\n",
        "\n",
        "        # Unpack the gru output\n",
        "        output, _ = nn.utils.rnn.pad_packed_sequence(output, batch_first=True)\n",
        "        output = self.linear(output)\n",
        "        output = self.softmax(output)\n",
        "        return output, h_state"
      ],
      "execution_count": null,
      "outputs": []
    },
    {
      "cell_type": "code",
      "metadata": {
        "id": "ax-Cav3BeAmC",
        "colab": {
          "base_uri": "https://localhost:8080/"
        },
        "outputId": "c07ea4de-4ca8-46fe-a353-a9f285fe73d9"
      },
      "source": [
        "# Sanity check the decoder\n",
        "input_size = 16\n",
        "hidden_size = 512\n",
        "output_size = 100\n",
        "\n",
        "decoder = Decoder(hidden_size, output_size, pad_id).cuda()\n",
        "# hidden_state = (sample_features.view(1, -1, hidden_size), torch.zeros(sample_features.view(1, -1, hidden_size).shape, device='cuda'))\n",
        "hidden_state = sample_features.view(1, -1, hidden_size)\n",
        "# decoder_output, (hn_state, cn_state) = decoder(sample_labels, hidden_state, sample_lengths)\n",
        "decoder_output, hn_state = decoder(sample_labels, hidden_state, sample_lengths)\n",
        "print(decoder_output.shape)"
      ],
      "execution_count": null,
      "outputs": [
        {
          "output_type": "stream",
          "text": [
            "torch.Size([32, 12, 100])\n"
          ],
          "name": "stdout"
        }
      ]
    },
    {
      "cell_type": "markdown",
      "metadata": {
        "id": "5WOsvVuknaV_"
      },
      "source": [
        "## Model training"
      ]
    },
    {
      "cell_type": "code",
      "metadata": {
        "id": "iDm2_fR7s7qh"
      },
      "source": [
        "num_epochs = 30\n",
        "log_step = 20\n",
        "batch_size = 32\n",
        "num_workers = 4\n",
        "\n",
        "# Encoder Model hyperparameters\n",
        "enc_output_size = 1024\n",
        "enc_learning_rate = 0.001\n",
        "\n",
        "# Decoder Model hyperparameters\n",
        "seq_size = 16  # Sequence length\n",
        "hidden_size = enc_output_size  # Hidden layer size\n",
        "output_size = 100  # Number of classes\n",
        "dec_learning_rate = 0.001\n",
        "bidirectional = False  # Whether to use bi-LSTM\n",
        "dropout = 0.3\n",
        "num_layers = 3  # Number of LSTM stacks per seq step\n",
        "num_directions = 2 if bidirectional else 1"
      ],
      "execution_count": null,
      "outputs": []
    },
    {
      "cell_type": "code",
      "metadata": {
        "id": "YTIFODSlqCl1"
      },
      "source": [
        "train_loader = torch.utils.data.DataLoader(train_dataset, batch_size=batch_size, shuffle=True, num_workers=num_workers)\n",
        "test_loader = torch.utils.data.DataLoader(test_dataset, batch_size=batch_size, shuffle=True, num_workers=num_workers)\n",
        "val_loader = torch.utils.data.DataLoader(val_dataset, batch_size=batch_size, shuffle=True, num_workers=num_workers)"
      ],
      "execution_count": null,
      "outputs": []
    },
    {
      "cell_type": "code",
      "metadata": {
        "id": "U3Iy5V82k7WE"
      },
      "source": [
        "# Loss criteria\n",
        "loss = nn.NLLLoss()\n",
        "\n",
        "# Model and optimizer variables\n",
        "encoder = Encoder(enc_output_size).cuda()\n",
        "encoder_optim = torch.optim.Adam(encoder.parameters(), lr=enc_learning_rate)\n",
        "\n",
        "decoder = Decoder(hidden_size, output_size, pad_id, num_layers=num_layers, dropout=dropout, bi=bidirectional).cuda()\n",
        "decoder_optim = torch.optim.Adam(decoder.parameters(), lr=dec_learning_rate)"
      ],
      "execution_count": null,
      "outputs": []
    },
    {
      "cell_type": "code",
      "metadata": {
        "id": "N6Y5KHHbTBRg",
        "colab": {
          "base_uri": "https://localhost:8080/"
        },
        "outputId": "48baff5b-2418-4101-b2b9-2788177a2a99"
      },
      "source": [
        "# Load the pretrained model parameters\n",
        "encoder.load_state_dict(torch.load('/content/drive/MyDrive/EE626_Project/Recognition_model/encoder_inceptionv3_1024.pt'))\n",
        "decoder.load_state_dict(torch.load('/content/drive/MyDrive/EE626_Project/Recognition_model/decoder_unigru_drop0.3_3.pt'))"
      ],
      "execution_count": null,
      "outputs": [
        {
          "output_type": "execute_result",
          "data": {
            "text/plain": [
              "<All keys matched successfully>"
            ]
          },
          "metadata": {
            "tags": []
          },
          "execution_count": 30
        }
      ]
    },
    {
      "cell_type": "code",
      "metadata": {
        "id": "gstRV53cs1pJ"
      },
      "source": [
        "def preds(image, encoder, decoder, sos_token_id, eos_token_id):\n",
        "    # Put the models in the evaluation mode\n",
        "    max_seq_len = seq_size\n",
        "\n",
        "    image = image.unsqueeze(0).cuda().type(torch.int64)\n",
        "\n",
        "    with torch.no_grad():\n",
        "        # get the encoder output or the context vector\n",
        "        context = encoder(image)\n",
        "        context = context.view(1, -1, enc_output_size)\n",
        "\n",
        "        context = torch.cat([context] * (num_directions * num_layers) , dim=0)\n",
        "\n",
        "        # get the decoder output (with teacher forcing!)\n",
        "        # hidden_state = (context, torch.zeros(context.shape).cuda())\n",
        "        hidden_state = context\n",
        "        input = torch.as_tensor([[sos_token_id]], dtype=torch.int64).cuda()\n",
        "        values = []\n",
        "        indices = []\n",
        "        for idx in range(max_seq_len):\n",
        "            # decoder_output, (hn_state, cn_state) = decoder(input, hidden_state, torch.as_tensor([1], dtype=torch.long, device='cuda'))\n",
        "            decoder_output, hn_state = decoder(input, hidden_state, torch.as_tensor([1], dtype=torch.int64, device='cuda'))\n",
        "            # hidden_state = (hn_state, cn_state)\n",
        "            hidden_state = hn_state\n",
        "            preds = decoder_output.view(-1, output_size)\n",
        "            preds = torch.topk(preds, 1)\n",
        "            value, index = preds.values, preds.indices.item()\n",
        "            values.extend(torch.exp(value))\n",
        "            indices.append(index)\n",
        "            input = preds.indices\n",
        "\n",
        "            if index == eos_token_id:\n",
        "                break\n",
        "    return values, indices"
      ],
      "execution_count": null,
      "outputs": []
    },
    {
      "cell_type": "code",
      "metadata": {
        "id": "xrBKeYmzv7UV"
      },
      "source": [
        "def train_one_epoch(loader, encoder, decoder, e_optim, d_optim, criterion, log_step=10):\n",
        "    loss_profile = []\n",
        "    eos_token = 1\n",
        "    for step, (images, targets, lengths) in enumerate(loader):\n",
        "        batch_size = lengths.size()[0]\n",
        "        images = images.cuda()\n",
        "        targets = targets.cuda()\n",
        "        e_optim.zero_grad()\n",
        "        d_optim.zero_grad()\n",
        "\n",
        "        # get the encoder output or the context vector\n",
        "        context = encoder(images)\n",
        "        context = context.view(1, -1, enc_output_size)\n",
        "\n",
        "        context = torch.cat([context] * (num_directions * num_layers) , dim=0)\n",
        "\n",
        "        # get the decoder output (without teacher forcing!)\n",
        "        # TODO: Experiment with a random state to switch between teacher forcing\n",
        "        # and normal flow\n",
        "        # hidden_state = (context, torch.zeros(context.shape).cuda())\n",
        "        hidden_state = context\n",
        "        loss = 0\n",
        "\n",
        "\n",
        "        # decoder_output, (hn_state, cn_state) = decoder(targets, hidden_state, lengths)\n",
        "        decoder_output, hn_state = decoder(targets, hidden_state, lengths)\n",
        "        # print(decoder_output)\n",
        "        max_seq_size = decoder_output.size()[1]\n",
        "        loss_mask = torch.zeros(batch_size, max_seq_size, device='cuda')\n",
        "        for idx in range(batch_size):\n",
        "            length = lengths[idx].item()\n",
        "            loss_mask[idx, :length] = 1\n",
        "\n",
        "        for idx in range(max_seq_size - 1):\n",
        "            mask = loss_mask[:, idx].view(-1, 1)\n",
        "            output = decoder_output[:, idx, :]\n",
        "            output = output * mask\n",
        "            # print(targets[:, idx + 1])\n",
        "            # print(torch.topk(output, 1).indices)\n",
        "            \n",
        "            loss += criterion(output, targets[:, idx + 1])\n",
        "\n",
        "        # loss = loss / batch_size\n",
        "        loss.backward()\n",
        "        d_optim.step()\n",
        "        e_optim.step()\n",
        "\n",
        "        loss_profile.append(loss.item())\n",
        "\n",
        "        if step % log_step == 0:\n",
        "            # compute the evaluation loss\n",
        "            # eval_loss = evaluate(val_loader, encoder, decoder, criterion)\n",
        "            print(f\"Training Loss: {loss.item()}\")\n",
        "        # break\n",
        "    return loss_profile"
      ],
      "execution_count": null,
      "outputs": []
    },
    {
      "cell_type": "code",
      "metadata": {
        "id": "mIN1xkYuvTW4"
      },
      "source": [
        "loss_profile = []\n",
        "dec_lr_scheduler = torch.optim.lr_scheduler.StepLR(decoder_optim, step_size=10, gamma=0.1)\n",
        "enc_lr_scheduler = torch.optim.lr_scheduler.StepLR(encoder_optim, step_size=10, gamma=0.1)"
      ],
      "execution_count": null,
      "outputs": []
    },
    {
      "cell_type": "code",
      "metadata": {
        "id": "oz3Ii3jOU3x1",
        "colab": {
          "base_uri": "https://localhost:8080/"
        },
        "outputId": "53f9f3f6-b202-4396-8678-d03599c0ab7c"
      },
      "source": [
        "encoder.train()\n",
        "decoder.train()\n",
        "for epoch_idx in range(num_epochs):\n",
        "    print(f'Epoch: {epoch_idx + 1}')\n",
        "    epoch_loss = train_one_epoch(train_loader, encoder, decoder, encoder_optim, decoder_optim, loss, log_step=log_step)\n",
        "    loss_profile.extend(epoch_loss)\n",
        "    dec_lr_scheduler.step()\n",
        "    enc_lr_scheduler.step()\n",
        "    # break"
      ],
      "execution_count": null,
      "outputs": [
        {
          "output_type": "stream",
          "text": [
            "Epoch: 1\n",
            "Training Loss: 1.165961742401123\n",
            "Training Loss: 1.6319090127944946\n",
            "Training Loss: 1.7382134199142456\n",
            "Epoch: 2\n",
            "Training Loss: 1.217682957649231\n",
            "Training Loss: 1.1474782228469849\n",
            "Training Loss: 2.8285984992980957\n",
            "Epoch: 3\n",
            "Training Loss: 1.4701014757156372\n",
            "Training Loss: 1.6814664602279663\n",
            "Training Loss: 1.2427998781204224\n",
            "Epoch: 4\n",
            "Training Loss: 1.4902067184448242\n",
            "Training Loss: 1.5823545455932617\n",
            "Training Loss: 1.4219359159469604\n",
            "Epoch: 5\n",
            "Training Loss: 1.469241738319397\n",
            "Training Loss: 0.8787984848022461\n",
            "Training Loss: 1.8438204526901245\n",
            "Epoch: 6\n",
            "Training Loss: 0.524832546710968\n",
            "Training Loss: 1.0408580303192139\n",
            "Training Loss: 1.756569743156433\n",
            "Epoch: 7\n",
            "Training Loss: 1.4108176231384277\n",
            "Training Loss: 2.574817419052124\n",
            "Training Loss: 1.346649169921875\n",
            "Epoch: 8\n",
            "Training Loss: 0.8994222283363342\n",
            "Training Loss: 0.9755166172981262\n",
            "Training Loss: 1.5925778150558472\n",
            "Epoch: 9\n",
            "Training Loss: 1.5128875970840454\n",
            "Training Loss: 1.564520001411438\n",
            "Training Loss: 1.716216802597046\n",
            "Epoch: 10\n",
            "Training Loss: 1.2808912992477417\n",
            "Training Loss: 1.0033000707626343\n",
            "Training Loss: 1.534732699394226\n",
            "Epoch: 11\n",
            "Training Loss: 1.7494421005249023\n",
            "Training Loss: 0.727304220199585\n",
            "Training Loss: 1.3315573930740356\n",
            "Epoch: 12\n",
            "Training Loss: 0.6952511072158813\n",
            "Training Loss: 0.5103377103805542\n",
            "Training Loss: 0.43644583225250244\n",
            "Epoch: 13\n",
            "Training Loss: 0.49704739451408386\n",
            "Training Loss: 0.2868809401988983\n",
            "Training Loss: 0.38212788105010986\n",
            "Epoch: 14\n",
            "Training Loss: 0.748706042766571\n",
            "Training Loss: 0.4432605803012848\n",
            "Training Loss: 0.9366626739501953\n",
            "Epoch: 15\n",
            "Training Loss: 0.6659702658653259\n",
            "Training Loss: 1.4328129291534424\n",
            "Training Loss: 0.4539400637149811\n",
            "Epoch: 16\n",
            "Training Loss: 0.6114439368247986\n",
            "Training Loss: 0.41116318106651306\n",
            "Training Loss: 0.5523684620857239\n",
            "Epoch: 17\n",
            "Training Loss: 0.3349849581718445\n",
            "Training Loss: 0.6016278862953186\n",
            "Training Loss: 0.584109902381897\n",
            "Epoch: 18\n",
            "Training Loss: 0.6912814974784851\n",
            "Training Loss: 0.36766138672828674\n",
            "Training Loss: 0.5765938758850098\n",
            "Epoch: 19\n",
            "Training Loss: 0.6009525656700134\n",
            "Training Loss: 0.562581479549408\n",
            "Training Loss: 0.8545610308647156\n",
            "Epoch: 20\n",
            "Training Loss: 0.6923912167549133\n",
            "Training Loss: 0.6878178715705872\n",
            "Training Loss: 0.7970095872879028\n",
            "Epoch: 21\n",
            "Training Loss: 0.290395587682724\n",
            "Training Loss: 0.2675791382789612\n",
            "Training Loss: 0.5886509418487549\n",
            "Epoch: 22\n",
            "Training Loss: 0.5501661896705627\n",
            "Training Loss: 0.19400180876255035\n",
            "Training Loss: 0.7163621187210083\n",
            "Epoch: 23\n",
            "Training Loss: 0.28619521856307983\n",
            "Training Loss: 0.22155918180942535\n",
            "Training Loss: 0.30957719683647156\n",
            "Epoch: 24\n",
            "Training Loss: 0.43748652935028076\n",
            "Training Loss: 0.562468409538269\n",
            "Training Loss: 0.2550932466983795\n",
            "Epoch: 25\n",
            "Training Loss: 0.29918718338012695\n",
            "Training Loss: 0.672197163105011\n",
            "Training Loss: 0.284917414188385\n",
            "Epoch: 26\n",
            "Training Loss: 0.5192134380340576\n",
            "Training Loss: 0.28192228078842163\n",
            "Training Loss: 0.365096777677536\n",
            "Epoch: 27\n",
            "Training Loss: 0.6734416484832764\n",
            "Training Loss: 0.1426524817943573\n",
            "Training Loss: 0.3368496000766754\n",
            "Epoch: 28\n",
            "Training Loss: 0.3372465968132019\n",
            "Training Loss: 0.700649082660675\n",
            "Training Loss: 0.18094924092292786\n",
            "Epoch: 29\n",
            "Training Loss: 0.4444226026535034\n",
            "Training Loss: 0.3700667917728424\n",
            "Training Loss: 0.4227775037288666\n",
            "Epoch: 30\n",
            "Training Loss: 0.26047050952911377\n",
            "Training Loss: 0.4802907705307007\n",
            "Training Loss: 0.38950586318969727\n"
          ],
          "name": "stdout"
        }
      ]
    },
    {
      "cell_type": "code",
      "metadata": {
        "id": "fb2Cr4g-ZzTz",
        "colab": {
          "base_uri": "https://localhost:8080/",
          "height": 284
        },
        "outputId": "570626e6-19c9-43f6-d76d-619fe36f0cea"
      },
      "source": [
        "plt.plot(loss_profile)"
      ],
      "execution_count": null,
      "outputs": [
        {
          "output_type": "execute_result",
          "data": {
            "text/plain": [
              "[<matplotlib.lines.Line2D at 0x7f91d005ff90>]"
            ]
          },
          "metadata": {
            "tags": []
          },
          "execution_count": 35
        },
        {
          "output_type": "display_data",
          "data": {
            "image/png": "[encoded data removed]",
            "text/plain": [
              "<Figure size 432x288 with 1 Axes>"
            ]
          },
          "metadata": {
            "tags": [],
            "needs_background": "light"
          }
        }
      ]
    },
    {
      "cell_type": "code",
      "metadata": {
        "id": "7EX98r3fITqe"
      },
      "source": [
        "device = torch.device(\"cuda:0\" if torch.cuda.is_available() else \"cpu\")"
      ],
      "execution_count": null,
      "outputs": []
    },
    {
      "cell_type": "code",
      "metadata": {
        "colab": {
          "base_uri": "https://localhost:8080/"
        },
        "id": "U1ypdsTIIVEW",
        "outputId": "64fe468e-3f1d-4eff-cee5-5dc8beea63e2"
      },
      "source": [
        "device"
      ],
      "execution_count": null,
      "outputs": [
        {
          "output_type": "execute_result",
          "data": {
            "text/plain": [
              "device(type='cuda', index=0)"
            ]
          },
          "metadata": {
            "tags": []
          },
          "execution_count": 37
        }
      ]
    },
    {
      "cell_type": "code",
      "metadata": {
        "id": "KIwOmObp3O-c",
        "colab": {
          "base_uri": "https://localhost:8080/",
          "height": 320
        },
        "outputId": "4df8af31-a4ba-42c4-acc2-92bd63aa7a6a"
      },
      "source": [
        "# print(decoder)\n",
        "encoder.eval()\n",
        "decoder.eval()\n",
        "\n",
        "image, target, _ = val_dataset[0]\n",
        "plt.imshow(image.permute(1,2,0))\n",
        "image=image.type(torch.int64)\n",
        "print(target)\n",
        "\n",
        "# get the predictions\n",
        "values, indices = preds(image, encoder, decoder, 0, 1)\n",
        "print([value.item() for value in values])\n",
        "print(indices)"
      ],
      "execution_count": null,
      "outputs": [
        {
          "output_type": "stream",
          "text": [
            "tensor([ 0, 45, 51, 66, 58, 41,  1,  2,  2,  2,  2,  2,  2,  2,  2,  2])\n",
            "[0.8210777044296265, 0.8238862752914429, 0.982929527759552, 0.9995454549789429, 0.9999961256980896, 0.9998351335525513, 0.9889869093894958]\n",
            "[59, 80, 56, 29, 80, 30, 1]\n"
          ],
          "name": "stdout"
        },
        {
          "output_type": "display_data",
          "data": {
            "image/png": "[encoded data removed]",
            "text/plain": [
              "<Figure size 432x288 with 1 Axes>"
            ]
          },
          "metadata": {
            "tags": [],
            "needs_background": "light"
          }
        }
      ]
    },
    {
      "cell_type": "code",
      "metadata": {
        "colab": {
          "base_uri": "https://localhost:8080/"
        },
        "id": "Ew2N54vwtEZb",
        "outputId": "271268ce-c8fe-4bf7-ef1f-4948b542c9b8"
      },
      "source": [
        "print(indices)"
      ],
      "execution_count": null,
      "outputs": [
        {
          "output_type": "stream",
          "text": [
            "[59, 80, 56, 29, 80, 30, 1]\n"
          ],
          "name": "stdout"
        }
      ]
    },
    {
      "cell_type": "code",
      "metadata": {
        "id": "ynavHrdIVILX",
        "colab": {
          "base_uri": "https://localhost:8080/"
        },
        "outputId": "dead5fe9-9937-4209-c23e-f8063b8fa42a"
      },
      "source": [
        "res =[]\n",
        "for k,v in name2idx.items():\n",
        "  for i in indices:\n",
        "    if v == i:\n",
        "      print(k)\n",
        "      res.append(k)\n"
      ],
      "execution_count": null,
      "outputs": [
        {
          "output_type": "stream",
          "text": [
            "DEVANAGARI LETTER CA\n",
            "DEVANAGARI LETTER CHA\n",
            "DEVANAGARI LETTER VA\n",
            "DEVANAGARI LETTER SA\n",
            "DEVANAGARI SIGN VIRAMA\n",
            "DEVANAGARI SIGN VIRAMA\n"
          ],
          "name": "stdout"
        }
      ]
    },
    {
      "cell_type": "code",
      "metadata": {
        "id": "-L-ihWfKPApZ"
      },
      "source": [
        "str1=[]\n",
        "for i in res:\n",
        "  e = unicodedata.lookup(i)\n",
        "  str1.append(e)\n",
        "str1= ''.join([str(x) for x in str1])"
      ],
      "execution_count": null,
      "outputs": []
    },
    {
      "cell_type": "code",
      "metadata": {
        "colab": {
          "base_uri": "https://localhost:8080/",
          "height": 35
        },
        "id": "8IZLc_o7RGeJ",
        "outputId": "0af4da92-f633-4742-b3c6-0dba1917af62"
      },
      "source": [
        "str1"
      ],
      "execution_count": null,
      "outputs": [
        {
          "output_type": "execute_result",
          "data": {
            "application/vnd.google.colaboratory.intrinsic+json": {
              "type": "string"
            },
            "text/plain": [
              "'चछवस््'"
            ]
          },
          "metadata": {
            "tags": []
          },
          "execution_count": 52
        }
      ]
    },
    {
      "cell_type": "code",
      "metadata": {
        "id": "Min3Mtm5AXZ6"
      },
      "source": [
        "# Save the model state\n",
        "# Path of the output file: `model_<architecture>_<dropout_rate>_<output_size>.pt`\n",
        "encoder_path = f'/content/drive/MyDrive/EE626_Project/Recognition_model/encoder_inceptionv3_{enc_output_size}.pt'\n",
        "decoder_path = f'/content/drive/MyDrive/EE626_Project/Recognition_model/decoder_unigru_drop{dropout}_{num_layers}.pt'\n",
        "torch.save(encoder.state_dict(), encoder_path)\n",
        "torch.save(decoder.state_dict(), decoder_path)"
      ],
      "execution_count": null,
      "outputs": []
    },
    {
      "cell_type": "code",
      "metadata": {
        "id": "8OT7UrH4YgjU"
      },
      "source": [
        "# data = torch.load(\"/content/drive/MyDrive/EE626_Project/cropped_data/dataset\")\n",
        "# val_set = data[\"val\"]"
      ],
      "execution_count": null,
      "outputs": []
    },
    {
      "cell_type": "code",
      "metadata": {
        "id": "u3CitFaoXlNk"
      },
      "source": [
        "import torch\n",
        "encoder_model = torch.load(\"/content/drive/MyDrive/EE626_Project/cropped_data/encoder_inceptionv3_1024.pt\")\n",
        "decoder_model = torch.load(\"/content/drive/MyDrive/EE626_Project/cropped_data/decoder_unigru_drop0.3_3.pt\")"
      ],
      "execution_count": null,
      "outputs": []
    },
    {
      "cell_type": "code",
      "metadata": {
        "id": "KcyTvS4RwRWf"
      },
      "source": [
        "inception = models.inception_v3(pretrained=True)\n",
        "[name for name, _ in inception.named_parameters()]"
      ],
      "execution_count": null,
      "outputs": []
    },
    {
      "cell_type": "code",
      "metadata": {
        "id": "OB0fft3bS54g"
      },
      "source": [
        ""
      ],
      "execution_count": null,
      "outputs": []
    }
  ]
}